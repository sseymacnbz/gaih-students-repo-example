{
 "cells": [
  {
   "cell_type": "markdown",
   "metadata": {},
   "source": [
    "1) I think ML is the best way to handle on data. Thanks to ML we can process lots of data in seconds. And also I think it is the foundation of AI."
   ]
  },
  {
   "cell_type": "markdown",
   "metadata": {},
   "source": [
    "2) In a supervised learning we want to predict the label with data that we already have.\n",
    "   But in a unsupervised learning we want to separate the data to same class.\n",
    "   \n",
    "Examples:\n",
    "    Supervised Learning: Linear Regression, Logistic Regression, Decision Tree etc.\n",
    "    Unsupervised Learning: Centroid-based Clustring, Distribution-based Clustring, K-Means Clustring"
   ]
  },
  {
   "cell_type": "markdown",
   "metadata": {},
   "source": [
    "3) We use the test set only for seeing our performance of model. But validation set used to tune the model parameters."
   ]
  },
  {
   "cell_type": "markdown",
   "metadata": {},
   "source": [
    "4) ->Duplicate Values: In this section we check the values that including more than one. If we don't remove them it can cause an overfitting problem\n",
    "    \n",
    "   ->Imbalanced Data: If there are an imbalance in the target label it can cause an overfitting too. Therefore we must check the balance of data.\n",
    "    \n",
    "   ->Missing Values: It happens when our data contains empty cell. We can fill them with mean or median of data's \n",
    "   \n",
    "   ->Outlier: If our data contains data other than what it should be, these are outliers. We can check with z-score or iqr methods and remove them."
   ]
  },
  {
   "cell_type": "markdown",
   "metadata": {},
   "source": [
    "5) For this we can use plotting. For example a discrete data's distplot give us a discrete plot. But a continuous data's distplot has not space between the values."
   ]
  },
  {
   "cell_type": "markdown",
   "metadata": {},
   "source": [
    "6) This plot is a distribution plot. Variable type is continuous. If we want to see standard distribution we can remove the outliers."
   ]
  },
  {
   "cell_type": "code",
   "execution_count": null,
   "metadata": {},
   "outputs": [],
   "source": []
  }
 ],
 "metadata": {
  "kernelspec": {
   "display_name": "Python 3",
   "language": "python",
   "name": "python3"
  },
  "language_info": {
   "codemirror_mode": {
    "name": "ipython",
    "version": 3
   },
   "file_extension": ".py",
   "mimetype": "text/x-python",
   "name": "python",
   "nbconvert_exporter": "python",
   "pygments_lexer": "ipython3",
   "version": "3.7.6"
  }
 },
 "nbformat": 4,
 "nbformat_minor": 4
}
